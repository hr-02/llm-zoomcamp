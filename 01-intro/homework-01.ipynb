{
 "cells": [
  {
   "cell_type": "code",
   "execution_count": 5,
   "id": "2ad49e93-5252-4015-9971-d38ca249e00a",
   "metadata": {},
   "outputs": [],
   "source": [
    "import os\n",
    "from mistralai.client import MistralClient\n",
    "from mistralai.models.chat_completion import ChatMessage"
   ]
  },
  {
   "cell_type": "code",
   "execution_count": 6,
   "id": "f32a6433-f9ae-46bc-8ac1-b508d08e6852",
   "metadata": {},
   "outputs": [],
   "source": [
    "api_key = \"eTxxZELrPee92VjW2INmUtkj1D4pC7QG\"\n",
    "model = \"open-mistral-7b\"\n",
    "\n",
    "client = MistralClient(api_key=api_key)\n"
   ]
  },
  {
   "cell_type": "code",
   "execution_count": 7,
   "id": "2588ca7e-367c-4e32-a49f-361fe6b2c2fe",
   "metadata": {},
   "outputs": [],
   "source": [
    "def build_prompt(query, search_results):\n",
    "    prompt_template = \"\"\"\n",
    "You're a course teaching assistant. Answer the QUESTION based on the CONTEXT from the FAQ database.\n",
    "Use only the facts from the CONTEXT when answering the QUESTION.\n",
    "\n",
    "QUESTION: {question}\n",
    "\n",
    "CONTEXT: \n",
    "{context}\n",
    "\"\"\".strip()\n",
    "\n",
    "    context = \"\"\n",
    "    \n",
    "    for doc in search_results:\n",
    "        context = context + f\"question: {doc['question']}\\nanswer: {doc['text']}\\n\\n\"\n",
    "    \n",
    "    prompt = prompt_template.format(question=query, context=context).strip()\n",
    "    return prompt"
   ]
  },
  {
   "cell_type": "code",
   "execution_count": 46,
   "id": "90219dbb-4d0d-4863-9a3a-176b526f5127",
   "metadata": {},
   "outputs": [
    {
     "data": {
      "text/plain": [
       "1499"
      ]
     },
     "execution_count": 46,
     "metadata": {},
     "output_type": "execute_result"
    }
   ],
   "source": [
    "search_results=elastic_search(query)\n",
    "len(build_prompt(query,search_results))"
   ]
  },
  {
   "cell_type": "code",
   "execution_count": 9,
   "id": "6610b87d-d6df-4dc1-bb3c-561635a4592b",
   "metadata": {},
   "outputs": [],
   "source": [
    "def llm(prompt,model):\n",
    "    chat_response = client.chat(\n",
    "    model=model,\n",
    "    messages=[ChatMessage(role=\"user\", content=prompt)]\n",
    "    )\n",
    "\n",
    "    print(chat_response.choices[0].message.content)"
   ]
  },
  {
   "cell_type": "code",
   "execution_count": 10,
   "id": "9b269d04-61aa-4632-aed2-0bb4e256ffbf",
   "metadata": {},
   "outputs": [],
   "source": [
    "import json"
   ]
  },
  {
   "cell_type": "code",
   "execution_count": 11,
   "id": "e08296fb-a6bb-43c7-bf30-1bbd2de9da9e",
   "metadata": {},
   "outputs": [],
   "source": [
    "with open('documents.json','rt') as f_in:\n",
    "    docs_raw=json.load(f_in)"
   ]
  },
  {
   "cell_type": "code",
   "execution_count": 12,
   "id": "e0a4668f-f914-4071-a574-b603bcd450f8",
   "metadata": {},
   "outputs": [],
   "source": [
    "documents=[]\n",
    "\n",
    "for course_dict in docs_raw:\n",
    "    for doc in course_dict['documents']:\n",
    "        doc['course']=course_dict['course']\n",
    "        documents.append(doc)"
   ]
  },
  {
   "cell_type": "code",
   "execution_count": 13,
   "id": "1e415066-34a2-4bd2-99a6-c9159bed7005",
   "metadata": {},
   "outputs": [
    {
     "data": {
      "text/plain": [
       "{'text': \"The purpose of this document is to capture frequently asked technical questions\\nThe exact day and hour of the course will be 15th Jan 2024 at 17h00. The course will start with the first  “Office Hours'' live.1\\nSubscribe to course public Google Calendar (it works from Desktop only).\\nRegister before the course starts using this link.\\nJoin the course Telegram channel with announcements.\\nDon’t forget to register in DataTalks.Club's Slack and join the channel.\",\n",
       " 'section': 'General course-related questions',\n",
       " 'question': 'Course - When will the course start?',\n",
       " 'course': 'data-engineering-zoomcamp'}"
      ]
     },
     "execution_count": 13,
     "metadata": {},
     "output_type": "execute_result"
    }
   ],
   "source": [
    "documents[0]"
   ]
  },
  {
   "cell_type": "code",
   "execution_count": null,
   "id": "bb65d811-8fdc-4696-b684-71d3d7c3406f",
   "metadata": {},
   "outputs": [],
   "source": []
  },
  {
   "cell_type": "code",
   "execution_count": 19,
   "id": "14ba3fe8-9a87-438f-b617-158cb635f47e",
   "metadata": {},
   "outputs": [],
   "source": [
    "from elasticsearch import Elasticsearch"
   ]
  },
  {
   "cell_type": "code",
   "execution_count": 20,
   "id": "7618d3bb-415b-44ab-9232-9c585851d389",
   "metadata": {},
   "outputs": [],
   "source": [
    "es_client=Elasticsearch('http://localhost:9200')"
   ]
  },
  {
   "cell_type": "code",
   "execution_count": 22,
   "id": "47fc91db-ce0a-45a0-a8ec-3beb3cc7fa19",
   "metadata": {},
   "outputs": [
    {
     "data": {
      "text/plain": [
       "ObjectApiResponse({'acknowledged': True, 'shards_acknowledged': True, 'index': 'course-questions'})"
      ]
     },
     "execution_count": 22,
     "metadata": {},
     "output_type": "execute_result"
    }
   ],
   "source": [
    "index_settings={\n",
    "    \"settings\": {\n",
    "        \"number_of_shards\": 1,\n",
    "        \"number_of_replicas\": 0\n",
    "    },\n",
    "    \"mappings\": {\n",
    "        \"properties\": {\n",
    "            \"text\": {\"type\": \"text\"},\n",
    "            \"section\": {\"type\": \"text\"},\n",
    "            \"question\": {\"type\": \"text\"},\n",
    "            \"course\": {\"type\": \"keyword\"} \n",
    "        }\n",
    "    }\n",
    "}\n",
    "\n",
    "index_name=\"course-questions\"\n",
    "\n",
    "es_client.indices.create(index=index_name, body= index_settings)"
   ]
  },
  {
   "cell_type": "code",
   "execution_count": 23,
   "id": "a986560a-adb4-4db5-9600-354a7c22d41b",
   "metadata": {},
   "outputs": [],
   "source": [
    "from tqdm.auto import tqdm"
   ]
  },
  {
   "cell_type": "code",
   "execution_count": 24,
   "id": "448e10ab-694d-4e2c-9bfb-32cf3fc41b68",
   "metadata": {},
   "outputs": [],
   "source": [
    "for doc in documents:\n",
    "    es_client.index(index=index_name,document=doc)"
   ]
  },
  {
   "cell_type": "code",
   "execution_count": 25,
   "id": "dac8e39f-f32d-4857-9516-d70b41af7098",
   "metadata": {},
   "outputs": [],
   "source": [
    "query=\"How do I execute a command in a running docker container?\""
   ]
  },
  {
   "cell_type": "code",
   "execution_count": 44,
   "id": "5caa772b-2ec0-49e8-b9b1-a6c11ee993d5",
   "metadata": {},
   "outputs": [],
   "source": [
    "def elastic_search(query):\n",
    "    search_query={\n",
    "        \"size\": 3,\n",
    "        \"query\": {\n",
    "            \"bool\": {\n",
    "                \"must\": {\n",
    "                    \"multi_match\": {\n",
    "                        \"query\": query,\n",
    "                        \"fields\": [\"question^4\", \"text\"],\n",
    "                        \"type\": \"best_fields\"\n",
    "                    }\n",
    "                },\n",
    "                \"filter\": {\n",
    "                    \"term\": {\n",
    "                        \"course\": \"machine-learning-zoomcamp\"\n",
    "                    }\n",
    "                }\n",
    "            }\n",
    "        }\n",
    "    }\n",
    "    response=es_client.search(index=index_name, body=search_query)\n",
    "\n",
    "    result_docs=[]\n",
    "    for hit in response['hits']['hits']:\n",
    "        result_docs.append(hit['_source'])\n",
    "\n",
    "    return result_docs"
   ]
  },
  {
   "cell_type": "code",
   "execution_count": 45,
   "id": "ffb41335-4285-4ef3-9114-349a9669b92a",
   "metadata": {},
   "outputs": [
    {
     "data": {
      "text/plain": [
       "[{'text': 'Launch the container image in interactive mode and overriding the entrypoint, so that it starts a bash command.\\ndocker run -it --entrypoint bash <image>\\nIf the container is already running, execute a command in the specific container:\\ndocker ps (find the container-id)\\ndocker exec -it <container-id> bash\\n(Marcos MJD)',\n",
       "  'section': '5. Deploying Machine Learning Models',\n",
       "  'question': 'How do I debug a docker container?',\n",
       "  'course': 'machine-learning-zoomcamp'},\n",
       " {'text': \"You can copy files from your local machine into a Docker container using the docker cp command. Here's how to do it:\\nTo copy a file or directory from your local machine into a running Docker container, you can use the `docker cp command`. The basic syntax is as follows:\\ndocker cp /path/to/local/file_or_directory container_id:/path/in/container\\nHrithik Kumar Advani\",\n",
       "  'section': '5. Deploying Machine Learning Models',\n",
       "  'question': 'How do I copy files from my local machine to docker container?',\n",
       "  'course': 'machine-learning-zoomcamp'},\n",
       " {'text': 'You can copy files from your local machine into a Docker container using the docker cp command. Here\\'s how to do it:\\nIn the Dockerfile, you can provide the folder containing the files that you want to copy over. The basic syntax is as follows:\\nCOPY [\"src/predict.py\", \"models/xgb_model.bin\", \"./\"]\\t\\t\\t\\t\\t\\t\\t\\t\\t\\t\\tGopakumar Gopinathan',\n",
       "  'section': '5. Deploying Machine Learning Models',\n",
       "  'question': 'How do I copy files from a different folder into docker container’s working directory?',\n",
       "  'course': 'machine-learning-zoomcamp'}]"
      ]
     },
     "execution_count": 45,
     "metadata": {},
     "output_type": "execute_result"
    }
   ],
   "source": [
    "elastic_search(query)"
   ]
  },
  {
   "cell_type": "code",
   "execution_count": 34,
   "id": "ca71f85a-7e80-4a67-82a5-c0674469cdaa",
   "metadata": {},
   "outputs": [],
   "source": [
    "def rag(query,model):\n",
    "    search_results = elastic_search(query)\n",
    "    prompt = build_prompt(query, search_results)\n",
    "    answer = llm(prompt,model)\n",
    "    return answer"
   ]
  },
  {
   "cell_type": "code",
   "execution_count": 35,
   "id": "e940e5bc-fbbc-4a0d-aadd-64cd6c0b0e5a",
   "metadata": {},
   "outputs": [
    {
     "name": "stdout",
     "output_type": "stream",
     "text": [
      "To execute a command in a running Docker container, follow these steps:\n",
      "\n",
      "1. First, find the container ID by running `docker ps`.\n",
      "\n",
      "2. Once you have the container ID, use the `docker exec` command to execute a command within the specific container. In this case, let's use `bash` to open an interactive shell within the container:\n",
      "\n",
      "```\n",
      "docker exec -it <container-id> bash\n",
      "```\n",
      "\n",
      "Now you can execute any command within the container. For example, if you wanted to run a command like `ls` to list the files in the container, you would simply type `ls` and press enter within the container shell.\n"
     ]
    }
   ],
   "source": [
    "rag(query,model)"
   ]
  },
  {
   "cell_type": "code",
   "execution_count": 1,
   "id": "f1d6170f-4007-4ac3-a07f-db5aa5874d0b",
   "metadata": {},
   "outputs": [
    {
     "name": "stdout",
     "output_type": "stream",
     "text": [
      "Requirement already satisfied: mistral-common in /home/codespace/anaconda3/lib/python3.11/site-packages (1.2.1)\n",
      "Requirement already satisfied: jsonschema==4.21.1 in /home/codespace/anaconda3/lib/python3.11/site-packages (from mistral-common) (4.21.1)\n",
      "Requirement already satisfied: pydantic==2.6.1 in /home/codespace/anaconda3/lib/python3.11/site-packages (from mistral-common) (2.6.1)\n",
      "Requirement already satisfied: sentencepiece==0.1.99 in /home/codespace/anaconda3/lib/python3.11/site-packages (from mistral-common) (0.1.99)\n",
      "Requirement already satisfied: typing-extensions<5.0.0,>=4.11.0 in /home/codespace/anaconda3/lib/python3.11/site-packages (from mistral-common) (4.12.2)\n",
      "Requirement already satisfied: attrs>=22.2.0 in /home/codespace/anaconda3/lib/python3.11/site-packages (from jsonschema==4.21.1->mistral-common) (23.1.0)\n",
      "Requirement already satisfied: jsonschema-specifications>=2023.03.6 in /home/codespace/anaconda3/lib/python3.11/site-packages (from jsonschema==4.21.1->mistral-common) (2023.7.1)\n",
      "Requirement already satisfied: referencing>=0.28.4 in /home/codespace/anaconda3/lib/python3.11/site-packages (from jsonschema==4.21.1->mistral-common) (0.30.2)\n",
      "Requirement already satisfied: rpds-py>=0.7.1 in /home/codespace/anaconda3/lib/python3.11/site-packages (from jsonschema==4.21.1->mistral-common) (0.10.6)\n",
      "Requirement already satisfied: annotated-types>=0.4.0 in /home/codespace/anaconda3/lib/python3.11/site-packages (from pydantic==2.6.1->mistral-common) (0.7.0)\n",
      "Requirement already satisfied: pydantic-core==2.16.2 in /home/codespace/anaconda3/lib/python3.11/site-packages (from pydantic==2.6.1->mistral-common) (2.16.2)\n",
      "Note: you may need to restart the kernel to use updated packages.\n"
     ]
    }
   ],
   "source": [
    "pip install mistral-common"
   ]
  },
  {
   "cell_type": "code",
   "execution_count": 37,
   "id": "b4e19491-03d3-4a58-8f85-3b26ffb59dc8",
   "metadata": {},
   "outputs": [],
   "source": [
    "from mistral_common.protocol.instruct.messages import (\n",
    "    UserMessage,\n",
    ")\n",
    "from mistral_common.protocol.instruct.request import ChatCompletionRequest\n",
    "from mistral_common.protocol.instruct.tool_calls import (\n",
    "    Function,\n",
    "    Tool,\n",
    ")\n",
    "from mistral_common.tokens.tokenizers.mistral import MistralTokenizer"
   ]
  },
  {
   "cell_type": "code",
   "execution_count": 38,
   "id": "41931d38-890c-445c-a918-9d049ba99f6e",
   "metadata": {},
   "outputs": [],
   "source": [
    "tokenizer_v3 = MistralTokenizer.from_model(model)"
   ]
  },
  {
   "cell_type": "code",
   "execution_count": 49,
   "id": "96e9400e-5cad-47ca-b79a-30edbbfafce2",
   "metadata": {},
   "outputs": [],
   "source": [
    "prompt=build_prompt(query,search_results)"
   ]
  },
  {
   "cell_type": "code",
   "execution_count": 50,
   "id": "becc08c2-1f31-4481-b68a-fec01186d4b1",
   "metadata": {},
   "outputs": [],
   "source": [
    "tokenized = tokenizer_v3.encode_chat_completion(\n",
    "    ChatCompletionRequest(\n",
    "        model=model,\n",
    "        messages=[\n",
    "            UserMessage(content=prompt),\n",
    "        ],\n",
    "    )\n",
    ")\n",
    "tokens, text = tokenized.tokens, tokenized.text"
   ]
  },
  {
   "cell_type": "code",
   "execution_count": 51,
   "id": "65e9cdb3-8d4c-4680-8ac3-2f6aee341be2",
   "metadata": {},
   "outputs": [
    {
     "data": {
      "text/plain": [
       "417"
      ]
     },
     "execution_count": 51,
     "metadata": {},
     "output_type": "execute_result"
    }
   ],
   "source": [
    "len(tokens)"
   ]
  },
  {
   "cell_type": "code",
   "execution_count": null,
   "id": "fa6eb396-ac47-4462-b3da-2957e26b521f",
   "metadata": {},
   "outputs": [],
   "source": []
  }
 ],
 "metadata": {
  "kernelspec": {
   "display_name": "Python 3 (ipykernel)",
   "language": "python",
   "name": "python3"
  },
  "language_info": {
   "codemirror_mode": {
    "name": "ipython",
    "version": 3
   },
   "file_extension": ".py",
   "mimetype": "text/x-python",
   "name": "python",
   "nbconvert_exporter": "python",
   "pygments_lexer": "ipython3",
   "version": "3.11.7"
  }
 },
 "nbformat": 4,
 "nbformat_minor": 5
}
